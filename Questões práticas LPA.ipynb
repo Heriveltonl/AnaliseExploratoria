{
  "nbformat": 4,
  "nbformat_minor": 0,
  "metadata": {
    "colab": {
      "private_outputs": true,
      "provenance": []
    },
    "kernelspec": {
      "name": "python3",
      "display_name": "Python 3"
    },
    "language_info": {
      "name": "python"
    }
  },
  "cells": [
    {
      "cell_type": "markdown",
      "source": [
        "# 1 - Análise Exploratória dos dados\n",
        "A partir da base de dados precos_carros_brasil.csv, execute as seguintes tarefas"
      ],
      "metadata": {
        "id": "XUNy87zcz01k"
      }
    },
    {
      "cell_type": "markdown",
      "source": [
        "### a. Carregue a base de dados media_precos_carros_brasil.csv"
      ],
      "metadata": {
        "id": "KS4WVzDsz6sr"
      }
    },
    {
      "cell_type": "code",
      "execution_count": null,
      "metadata": {
        "id": "np8Et51czjz4"
      },
      "outputs": [],
      "source": [
        "from sklearn.preprocessing import LabelEncoder\n",
        "from sklearn.model_selection import train_test_split\n",
        "from sklearn.ensemble import RandomForestRegressor\n",
        "from sklearn.impute import SimpleImputer\n",
        "from xgboost import XGBRegressor\n",
        "from sklearn.metrics import mean_squared_error, mean_absolute_error, r2_score\n",
        "import pandas as pd\n",
        "import matplotlib.pyplot as plt\n",
        "import seaborn as sns\n",
        "import warnings\n",
        "warnings.filterwarnings('ignore')\n",
        "\n",
        "#Carregando a base de dados.\n",
        "\n",
        "dados = pd.read_csv('sample_data/precos_carros_brasil.csv')"
      ]
    },
    {
      "cell_type": "code",
      "source": [
        "from google.colab import drive\n",
        "drive.mount('/content/drive')"
      ],
      "metadata": {
        "id": "UpTGg-Jr4GDz"
      },
      "execution_count": null,
      "outputs": []
    },
    {
      "cell_type": "markdown",
      "source": [],
      "metadata": {
        "id": "DUbkEwk_0D7L"
      }
    },
    {
      "cell_type": "markdown",
      "source": [
        "### b. Verifique se há valores faltantes nos dados. Caso haja, escolha uma tratativa para resolver o problema de valores faltantes"
      ],
      "metadata": {
        "id": "kptKVAfv0MoN"
      }
    },
    {
      "cell_type": "code",
      "source": [
        "# Verificando a existencia de elementos sem valor nenhum\n",
        "\n",
        "dados.isna().sum()\n",
        "\n",
        "# Metodo para remover linhas que contenham linhas com valores faltantes\n",
        "\n",
        "# A função dropna() apaga as linhas que contem entradas com dados \"não disponiveis\"\n",
        "dados = dados.dropna()"
      ],
      "metadata": {
        "id": "zXcWjLnP04vX"
      },
      "execution_count": null,
      "outputs": []
    },
    {
      "cell_type": "code",
      "source": [
        "dados.head()"
      ],
      "metadata": {
        "id": "TUeEvSqq5Po3"
      },
      "execution_count": null,
      "outputs": []
    },
    {
      "cell_type": "markdown",
      "source": [
        "## c. Verifique se há dados duplicados nos dados"
      ],
      "metadata": {
        "id": "n5pLQrAn1CfH"
      }
    },
    {
      "cell_type": "code",
      "source": [
        "dados.duplicated().sum()"
      ],
      "metadata": {
        "id": "P0LItcGo1DaP"
      },
      "execution_count": null,
      "outputs": []
    },
    {
      "cell_type": "markdown",
      "source": [
        "### d. Crie duas categorias, para separar colunas numéricas e categóricas. Imprima o resumo de informações das variáveis numéricas e categóricas (estatística descritiva dos dados)\n"
      ],
      "metadata": {
        "id": "2j4JFM-41NKT"
      }
    },
    {
      "cell_type": "code",
      "source": [
        "# Criando duas categorias para armazenar as colunas categoricas e numéricas\n",
        "\n",
        "numericas_cols = [col for col in dados.columns if dados[col].dtype != 'object']\n",
        "categoricas_cols = [col for col in dados.columns if dados[col].dtype == 'object']"
      ],
      "metadata": {
        "id": "A1msJhI61PsH"
      },
      "execution_count": null,
      "outputs": []
    },
    {
      "cell_type": "code",
      "source": [
        "# Imprimindo o resumo de informações das variáveis numéricas\n",
        "dados[numericas_cols].describe()"
      ],
      "metadata": {
        "id": "j-2F9Bf6SHvw"
      },
      "execution_count": null,
      "outputs": []
    },
    {
      "cell_type": "code",
      "source": [
        "# Imprimindo o resumo de informações das variáveis categóricas\n",
        "dados[categoricas_cols].describe()"
      ],
      "metadata": {
        "id": "S-shbwm0SS3A"
      },
      "execution_count": null,
      "outputs": []
    },
    {
      "cell_type": "markdown",
      "source": [
        "### e. Imprima a contagem de valores por modelo (model) e marca do carro (brand)"
      ],
      "metadata": {
        "id": "EtY8F24O1S46"
      }
    },
    {
      "cell_type": "code",
      "source": [
        "# Imprimindo a contagem de valores - Modelo\n",
        "dados['model'].value_counts()"
      ],
      "metadata": {
        "id": "KsUjSNza1VPk"
      },
      "execution_count": null,
      "outputs": []
    },
    {
      "cell_type": "code",
      "source": [
        "# Imprimindo a contagem de valores - Marca\n",
        "dados['brand'].value_counts()"
      ],
      "metadata": {
        "id": "K5rBdNUCUfx9"
      },
      "execution_count": null,
      "outputs": []
    },
    {
      "cell_type": "markdown",
      "source": [
        "### f. Dê um breve explicação (máximo de quatro linhas) sobre os principais resultados encontrados na Análise Exploratória dos dados\n"
      ],
      "metadata": {
        "id": "4yLDuvfc1Us9"
      }
    },
    {
      "cell_type": "markdown",
      "source": [
        "**Resposta contida no PDF** - Dentro os resultados obtidos na Analise Exploratoria, podemos dizer que a base de dados original possui 11 colunas e 202297 dados, destes, 65245 são valores que possuem dados faltantes. Depois do tratamento para eliminar valores faltantes obtivemos uma quantidade total de 137052 registros. Podemos constatar também que após os tratamentos, há 2 dados duplicados. O modelo de carro que aparece com mais frequencia é um empate entre o \"Focus 1.6 S/SE/SE Plus Flex 8V/16V 5p\" e o \"Palio Week. Adv/Adv TRYON 1.8 mpi Flex\" que aparecem ambos 425 vezes, ao passo que a marca que mais aparece é a Fiat com 44962 ocorrencias."
      ],
      "metadata": {
        "id": "OO_44C7G_wY1"
      }
    },
    {
      "cell_type": "markdown",
      "source": [
        "## 2 Visualização dos dados\n",
        "A partir da base de dados precos_carros_brasil.csv, execute as seguintes tarefas:"
      ],
      "metadata": {
        "id": "OVOwwJgh1Y00"
      }
    },
    {
      "cell_type": "markdown",
      "source": [
        "### a. Gere um gráfico da distribuição da quantidade de carros por marca\n"
      ],
      "metadata": {
        "id": "Il4_97jx1zN2"
      }
    },
    {
      "cell_type": "code",
      "source": [
        "valores_contados = dados['brand'].value_counts()\n",
        "\n",
        "plt.figure(figsize=(20,10))\n",
        "grafico_1 = plt.bar(valores_contados.index, valores_contados.values)\n",
        "plt.title('Distribuição de carros por marca')\n",
        "plt.ylabel('Quantidade')\n",
        "plt.bar_label(grafico_1, size=10)"
      ],
      "metadata": {
        "id": "HJH1j1xe1sfD"
      },
      "execution_count": null,
      "outputs": []
    },
    {
      "cell_type": "markdown",
      "source": [
        "### b. Gere um gráfico da distribuição da quantidade de carros por tipo de engrenagem do carro"
      ],
      "metadata": {
        "id": "hxgcE2KE1-EN"
      }
    },
    {
      "cell_type": "code",
      "source": [
        "valores_contados_2 = dados['gear'].value_counts()\n",
        "\n",
        "plt.figure(figsize=(20,10))\n",
        "grafico_2 = plt.bar(valores_contados_2.index, valores_contados_2.values)\n",
        "plt.title('Distribuição de carros por engrenagem')\n",
        "plt.ylabel('Quantidade')\n",
        "plt.bar_label(grafico_2, size=10)"
      ],
      "metadata": {
        "id": "ZQcYfyc52Ahv"
      },
      "execution_count": null,
      "outputs": []
    },
    {
      "cell_type": "markdown",
      "source": [
        "### c. Gere um gráfico da evolução da média de preço dos carros ao longo dos meses de 2022 (variável de tempo no eixo X)\n"
      ],
      "metadata": {
        "id": "k9jbA7eB2A5J"
      }
    },
    {
      "cell_type": "code",
      "source": [
        "ano_2022 = dados[dados.year_of_reference == 2022]\n",
        "\n",
        "plt.figure(figsize=(20,10))\n",
        "grafico_3 = plt.bar(ano_2022['month_of_reference'].unique(),dados.groupby('month_of_reference')['avg_price_brl'].mean().round())\n",
        "plt.ylabel('Preço medio')\n",
        "plt.title('Media de preços no Ano de 2022')\n",
        "plt.bar_label(grafico_3, size=10)"
      ],
      "metadata": {
        "id": "h72Feysh2Ifn"
      },
      "execution_count": null,
      "outputs": []
    },
    {
      "cell_type": "markdown",
      "source": [
        "### d. Gere um gráfico da distribuição da média de preço dos carros por marca e tipo de engrenagem"
      ],
      "metadata": {
        "id": "0Rc87EdB2Iwo"
      }
    },
    {
      "cell_type": "code",
      "source": [
        "media_marca_engrenagem = dados.groupby(['brand','gear'])['avg_price_brl'].mean().round()\n",
        "media_marca_engrenagem = media_marca_engrenagem.reset_index(name='Preco Medio')\n",
        "\n",
        "plt.figure(figsize=(20,10))\n",
        "ax = sns.barplot(data=media_marca_engrenagem,x='brand',y='Preco Medio', hue='gear', hue_order=['manual','automatic'])\n",
        "ax.bar_label(ax.containers[0], size=10)\n",
        "ax.bar_label(ax.containers[1], size=10)"
      ],
      "metadata": {
        "id": "xj6Ml-HQ3BQh"
      },
      "execution_count": null,
      "outputs": []
    },
    {
      "cell_type": "markdown",
      "source": [
        "### e. Dê uma breve explicação (máximo de quatro linhas) sobre os resultados gerados no item d\n"
      ],
      "metadata": {
        "id": "CPnqQmas2N_S"
      }
    },
    {
      "cell_type": "markdown",
      "source": [
        "**Resposta contida no PDF** - No grafico gerado no item d podemos verificar que todas as marcas oferecem tanto modelos de carros com cambios (engrenagens) manuais como automaticas. Podemos também concluir que os carros com cambio automaticos tem um preço muito maior que o de carros com engranagens manuais, em alguns casos, como o exemplo da Fiat e da Volkswagen, essa media de preço do carro automatico para o manual, pode chegar a ser o dobro do valor."
      ],
      "metadata": {
        "id": "2dFYkXIO9B_m"
      }
    },
    {
      "cell_type": "markdown",
      "source": [
        "### f. Gere um gráfico da distribuição da média de preço dos carros por marca e tipo de combustível"
      ],
      "metadata": {
        "id": "PptrRbwS2T-6"
      }
    },
    {
      "cell_type": "code",
      "source": [
        "marca_tipo_combustivel = dados.groupby(['brand','fuel'])['avg_price_brl'].mean().round()\n",
        "\n",
        "marca_tipo_combustivel = marca_tipo_combustivel.reset_index(name='Preco')\n",
        "\n",
        "plt.figure(figsize=(20,10))\n",
        "ax = sns.barplot(data=marca_tipo_combustivel,x='brand',y='Preco',hue='fuel',hue_order=['Alcohol','Gasoline','Diesel'])\n",
        "ax.bar_label(ax.containers[0], size=10)\n",
        "ax.bar_label(ax.containers[1], size=10)\n",
        "ax.bar_label(ax.containers[2], size=10)"
      ],
      "metadata": {
        "id": "6fh0ie-K3AJW"
      },
      "execution_count": null,
      "outputs": []
    },
    {
      "cell_type": "markdown",
      "source": [
        "### g. Dê uma breve explicação (máximo de quatro linhas) sobre os resultados gerados no item f"
      ],
      "metadata": {
        "id": "fv_S93_e2VMu"
      }
    },
    {
      "cell_type": "markdown",
      "source": [
        "**Resposta contida no PDF** - O que o gráfico gerado no item f pode nos informar é que o valor dos carros que utilizam o Diesel como combustivel, em media, são os mais caros. Aquele que possui o segundo valor médio seriam os carros a gasolina, com os carros a alcool no terceiro e ultimo lugar, sendo que existem marcas, como o caso da Nissan e da Renault, que de acordo com a base de dados nem chega a fornecer uma opção de carro a alcool."
      ],
      "metadata": {
        "id": "xlimhy11-mRt"
      }
    },
    {
      "cell_type": "markdown",
      "source": [
        "**# 3 Aplicação de modelos de machine learning para prever o preço médio dos carros**\n",
        "A partir da base de dados precos_carros_brasil.csv, execute as seguintes tarefas:"
      ],
      "metadata": {
        "id": "-K-L3bZS2W0j"
      }
    },
    {
      "cell_type": "markdown",
      "source": [
        "### a. Escolha as variáveis numéricas (modelos de Regressão) para serem as variáveis independentes do modelo.A variável target é avg_price. Observação: caso julgue necessário, faça a transformação de variáveis categóricas em variáveis numéricas para inputar no modelo. Indique quais variáveis foram transformadas e como foram transformadas\n"
      ],
      "metadata": {
        "id": "G-9XRRER2ZuW"
      }
    },
    {
      "cell_type": "markdown",
      "source": [
        "Aqui será feita a alteração das variaveis da coluta 'gear', elas passarão a ser do tipo numérico com valores variando entre 0 (automatic) e 1 (manual)."
      ],
      "metadata": {
        "id": "eH-Mdl8wZudI"
      }
    },
    {
      "cell_type": "code",
      "source": [
        "dados['gear'] = LabelEncoder().fit_transform(dados['gear'])\n",
        "dados.tail()"
      ],
      "metadata": {
        "id": "7tsV1X4v2_Bd"
      },
      "execution_count": null,
      "outputs": []
    },
    {
      "cell_type": "markdown",
      "source": [
        "Aqui será feita a alteração das variaveis da coluna 'fuel', elas passarão a ser do tipo numérico com valores variando entre 0 (Alcohol), 1 (Diesel) e 2 (Gasoline)."
      ],
      "metadata": {
        "id": "gQBpvay1Z3YM"
      }
    },
    {
      "cell_type": "code",
      "source": [
        "dados['fuel'] = LabelEncoder().fit_transform(dados['fuel'])\n",
        "dados.head()"
      ],
      "metadata": {
        "id": "k_0689r9Z7V1"
      },
      "execution_count": null,
      "outputs": []
    },
    {
      "cell_type": "markdown",
      "source": [
        "Aqui será feita a alteração das variaveis da coluna 'brand', elas passarão a ser do tipo numérico com um numero limitado de opções. A marcas assumirão valores: 0 (Fiat), 1 (Ford), 2 (GM), 3 (Nissan), 4 (Renault) e 5 (VW)."
      ],
      "metadata": {
        "id": "B4vwBPU9Z-x7"
      }
    },
    {
      "cell_type": "code",
      "source": [
        "dados['brand'] = LabelEncoder().fit_transform(dados['brand'])"
      ],
      "metadata": {
        "id": "7wfoXiQnaDUP"
      },
      "execution_count": null,
      "outputs": []
    },
    {
      "cell_type": "markdown",
      "source": [
        "Aqui é feito a alteração da coluna 'engine_size', o primeiro passo é alterar o caracter \",\" pelo caracter \".\", pois o metodo que faz a conversão de texto para valores numericos não soube lidar com a maneira como o Português lida com casas decimais, pois isso, é necessário alterar o caracter para que o Python entenda que se trata de um numero decimal. Em seguida o metodo \"pandas.to_numeric()\" é usado para converter os valores da coluna 'engine_size'."
      ],
      "metadata": {
        "id": "aG-6x_3qaIN_"
      }
    },
    {
      "cell_type": "code",
      "source": [
        "dados['engine_size'] = dados['engine_size'].str.replace(',','.')\n",
        "dados['engine_size - numeric'] = pd.to_numeric(dados['engine_size'])\n",
        "dados.head()"
      ],
      "metadata": {
        "id": "xcgfstb0aLwZ"
      },
      "execution_count": null,
      "outputs": []
    },
    {
      "cell_type": "markdown",
      "source": [
        "Aqui é criado um novo dataset utilizando somente os valores que serão utilizados no treinamento dos modelos."
      ],
      "metadata": {
        "id": "ls-rHxhOaVZk"
      }
    },
    {
      "cell_type": "code",
      "source": [
        "dados_num = dados.drop(['month_of_reference','fipe_code','authentication','model','engine_size'],axis=1)\n",
        "dados_num"
      ],
      "metadata": {
        "id": "Ts3D2JRjafoo"
      },
      "execution_count": null,
      "outputs": []
    },
    {
      "cell_type": "markdown",
      "source": [
        "### b. Crie partições contendo 75% dos dados para treino e 25% para teste\n"
      ],
      "metadata": {
        "id": "U8XAH85K2e6T"
      }
    },
    {
      "cell_type": "markdown",
      "source": [
        "Aqui eu vou definir as variaveis numericas que serão utilizadas na analise com exceção da variavel target."
      ],
      "metadata": {
        "id": "pAgdQVMgaqGI"
      }
    },
    {
      "cell_type": "code",
      "source": [
        "X = dados_num.drop('avg_price_brl',axis=1)"
      ],
      "metadata": {
        "id": "zHY1N8pT2-Su"
      },
      "execution_count": null,
      "outputs": []
    },
    {
      "cell_type": "markdown",
      "source": [
        "Aqui vai é definida a variavel Y apenas com a variavel target."
      ],
      "metadata": {
        "id": "E6LMmLoYa_w8"
      }
    },
    {
      "cell_type": "code",
      "source": [
        "Y = dados_num['avg_price_brl']"
      ],
      "metadata": {
        "id": "kRufI7SEbKlQ"
      },
      "execution_count": null,
      "outputs": []
    },
    {
      "cell_type": "markdown",
      "source": [
        "Aqui é feita a divisão do dados entre a parte que será usada para treinar o modelo e a parte que será usada para testar o modelo."
      ],
      "metadata": {
        "id": "w__2q1wybnqz"
      }
    },
    {
      "cell_type": "code",
      "source": [
        "X_train, X_test, Y_train, Y_test = train_test_split(X,Y, test_size=0.25, random_state=42)"
      ],
      "metadata": {
        "id": "zDNMvp_ub37u"
      },
      "execution_count": null,
      "outputs": []
    },
    {
      "cell_type": "markdown",
      "source": [
        "### c. Treine modelos RandomForest (biblioteca RandomForestRegressor) e XGBoost(biblioteca XGBRegressor) para predição dos preços dos carros. Observação: caso julgue necessário, mude os parâmetros dos modelos e rode novos modelos. Indique quais parâmetros foram inputados e indique o treinamento de cada modelo"
      ],
      "metadata": {
        "id": "rE4v3UfQ2giQ"
      }
    },
    {
      "cell_type": "code",
      "source": [
        "# Preencher os valores ausentes em X_train e X_test\n",
        "imputer = SimpleImputer(strategy='mean')\n",
        "X_train_imputed = imputer.fit_transform(X_train)\n",
        "X_test_imputed = imputer.transform(X_test)\n",
        "\n",
        "# Preencher os valores ausentes em Y_train\n",
        "Y_train_imputed = imputer.fit_transform(Y_train.values.reshape(-1, 1)).ravel()\n",
        "\n",
        "# Modelo RandomForest\n",
        "rf_model = RandomForestRegressor(random_state=42)\n",
        "rf_model.fit(X_train_imputed, Y_train_imputed)\n",
        "\n",
        "# Modelo XGBoost\n",
        "xgb_model = XGBRegressor(random_state=42)\n",
        "xgb_model.fit(X_train_imputed, Y_train_imputed)\n",
        "\n",
        "# Modelo RandomForest com parâmetros ajustados\n",
        "rf_model_tuned = RandomForestRegressor(n_estimators=100, max_depth=5, random_state=42)\n",
        "rf_model_tuned.fit(X_train_imputed, Y_train_imputed)\n",
        "\n",
        "# Modelo XGBoost com parâmetros ajustados\n",
        "xgb_model_tuned = XGBRegressor(n_estimators=100, max_depth=3, learning_rate=0.1, random_state=42)\n",
        "xgb_model_tuned.fit(X_train_imputed, Y_train_imputed)\n",
        "\n",
        "# Avaliação dos modelos (opcional)\n",
        "# (Você pode adicionar aqui a avaliação dos modelos usando X_test_imputed e Y_test)"
      ],
      "metadata": {
        "id": "s_WQiFWn29jc"
      },
      "execution_count": null,
      "outputs": []
    },
    {
      "cell_type": "markdown",
      "source": [
        "### d. Grave os valores preditos em variáveis criadas"
      ],
      "metadata": {
        "id": "rG6TKQE92ihI"
      }
    },
    {
      "cell_type": "code",
      "source": [
        "Y_pred_rf = rf_model.predict(X_test_imputed)\n",
        "Y_pred_xgb = xgb_model.predict(X_test_imputed)\n",
        "Y_pred_rf_tuned = rf_model_tuned.predict(X_test_imputed)\n",
        "Y_pred_xgb_tuned = xgb_model_tuned.predict(X_test_imputed)"
      ],
      "metadata": {
        "id": "5CAVnnEt26UM"
      },
      "execution_count": null,
      "outputs": []
    },
    {
      "cell_type": "markdown",
      "source": [
        "### e. Realize a análise de importância das variáveis para estimar a variável target, para cada modelo treinado"
      ],
      "metadata": {
        "id": "5bkc-qz22leS"
      }
    },
    {
      "cell_type": "code",
      "source": [
        "# Análise de importância das variáveis para o modelo RandomForest\n",
        "importances_rf = rf_model.feature_importances_\n",
        "feature_names = X.columns\n",
        "\n",
        "# Criar um DataFrame para visualização\n",
        "importances_df_rf = pd.DataFrame({'Feature': feature_names, 'Importance': importances_rf})\n",
        "importances_df_rf = importances_df_rf.sort_values(by='Importance', ascending=False)\n",
        "\n",
        "# Visualizar a importância das variáveis\n",
        "print(\"Importância das variáveis para o modelo RandomForest:\")\n",
        "print(importances_df_rf)\n",
        "\n",
        "# Análise de importância das variáveis para o modelo XGBoost\n",
        "importances_xgb = xgb_model.feature_importances_\n",
        "\n",
        "# Criar um DataFrame para visualização\n",
        "importances_df_xgb = pd.DataFrame({'Feature': feature_names, 'Importance': importances_xgb})\n",
        "importances_df_xgb = importances_df_xgb.sort_values(by='Importance', ascending=False)\n",
        "\n",
        "# Visualizar a importância das variáveis\n",
        "print(\"Importância das variáveis para o modelo XGBoost:\")\n",
        "print(importances_df_xgb)"
      ],
      "metadata": {
        "id": "z10mQHlp28zy"
      },
      "execution_count": null,
      "outputs": []
    },
    {
      "cell_type": "markdown",
      "source": [
        "### f. Dê uma breve explicação (máximo de quatro linhas) sobre os resultados encontrados na análise de importância de variáveis\n"
      ],
      "metadata": {
        "id": "IbkH-vON2odg"
      }
    },
    {
      "cell_type": "code",
      "source": [
        "**Resposta contida no PDF** - Nos dois modelos analisados, notou-se uma maior importância para as variáveis engine_size e year_model. As demais variáveis, fuel e gear\n",
        " afetam de formas diferentes cada modelo. Já brand e year_of_reference são variáveis que tem uma menor influência nos dois modelos."
      ],
      "metadata": {
        "id": "vgXRL3BT20fW"
      },
      "execution_count": null,
      "outputs": []
    },
    {
      "cell_type": "markdown",
      "source": [
        "### g. Escolha o melhor modelo com base nas métricas de avaliação MSE, MAE e R²"
      ],
      "metadata": {
        "id": "5_JiblMp2qKP"
      }
    },
    {
      "cell_type": "code",
      "source": [
        "mse = mean_squared_error(Y_test, Y_pred_rf)\n",
        "mae = mean_absolute_error(Y_test, Y_pred_rf)\n",
        "r2 = r2_score(Y_test, Y_pred_rf)\n",
        "\n",
        "print(\"RandomForest - MSE - \", mse)\n",
        "print(\"RandomForest - MAE -\", mae)\n",
        "print(\"RandomForest - R^2 -\", r2)\n",
        "\n",
        "\n",
        "mse = mean_squared_error(Y_test, Y_pred_rf_tuned)\n",
        "mae = mean_absolute_error(Y_test, Y_pred_rf_tuned)\n",
        "r2 = r2_score(Y_test, Y_pred_rf_tuned)\n",
        "\n",
        "print(\"\\nRandomForest Tuned - MSE - \", mse)\n",
        "print(\"RandomForest Tuned - MAE -\", mae)\n",
        "print(\"RandomForest Tuned - R^2 -\", r2)\n",
        "\n",
        "mse = mean_squared_error(Y_test, Y_pred_xgb)\n",
        "mae = mean_absolute_error(Y_test, Y_pred_xgb)\n",
        "r2 = r2_score(Y_test, Y_pred_xgb)\n",
        "\n",
        "print(\"\\nXGBoost - MSE - \", mse)\n",
        "print(\"XGBoost - MAE -\", mae)\n",
        "print(\"XGBoost - R^2 -\", r2)\n",
        "\n",
        "\n",
        "mse = mean_squared_error(Y_test, Y_pred_xgb_tuned)\n",
        "mae = mean_absolute_error(Y_test, Y_pred_xgb_tuned)\n",
        "r2 = r2_score(Y_test, Y_pred_xgb_tuned)\n",
        "\n",
        "print(\"\\nXGBoost Tuned - MSE - \", mse)\n",
        "print(\"XGBoost Tuned - MAE -\", mae)\n",
        "print(\"XGBoost Tuned - R^2 -\", r2)\n",
        "\n",
        "\n",
        "# O melhor modelo é o RandomForest\n",
        "# RandomForest - MSE -  109260296.40292338\n",
        "# RandomForest - MAE - 5577.5337231235135\n",
        "# RandomForest - R^2 - 0.9588152066232576"
      ],
      "metadata": {
        "id": "m4ZhtUeM204f"
      },
      "execution_count": null,
      "outputs": []
    },
    {
      "cell_type": "markdown",
      "source": [
        "### h. Dê uma breve explicação (máximo de quatro linhas) sobre qual modelo gerou o melhor resultado e a métrica de avaliação utilizada\n"
      ],
      "metadata": {
        "id": "-9Exu54O2rXH"
      }
    },
    {
      "cell_type": "markdown",
      "source": [
        "**Resposta contida no PDF** - O modelo que gerou o melhor resultado foi o RandomForest, utilizando os métodos de avaliação MSE (menor média de erro quadrático 109260296.40292338), MAE (menor média de erro absoluto 5577.5337231235135) e R^2 (maior precisão 0.9588152066232576)."
      ],
      "metadata": {
        "id": "fqFOIQprFmgj"
      }
    }
  ]
}